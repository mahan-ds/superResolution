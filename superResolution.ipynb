{
  "nbformat": 4,
  "nbformat_minor": 0,
  "metadata": {
    "colab": {
      "provenance": [],
      "authorship_tag": "ABX9TyPPzZpQji5JXe0H2EXdQsmO",
      "include_colab_link": true
    },
    "kernelspec": {
      "name": "python3",
      "display_name": "Python 3"
    },
    "language_info": {
      "name": "python"
    }
  },
  "cells": [
    {
      "cell_type": "markdown",
      "metadata": {
        "id": "view-in-github",
        "colab_type": "text"
      },
      "source": [
        "<a href=\"https://colab.research.google.com/github/mahan-ds/superResolution/blob/main/superResolution.ipynb\" target=\"_parent\"><img src=\"https://colab.research.google.com/assets/colab-badge.svg\" alt=\"Open In Colab\"/></a>"
      ]
    },
    {
      "cell_type": "code",
      "execution_count": null,
      "metadata": {
        "id": "W3UYE97DLK3T"
      },
      "outputs": [],
      "source": [
        "# ✅ Base notebook for running the s2dr3 model without Google Drive dependency\n",
        "# Suitable for use with Selenium and auto-replacement of input values\n",
        "\n",
        "# ------------------- Install dependencies -------------------\n",
        "!apt install -qq gdal-bin\n",
        "!pip -q install https://storage.googleapis.com/0x7ff601307fa5/s2dr3-20250307.1-cp311-cp311-linux_x86_64.whl\n",
        "\n",
        "# ------------------- Run the model -------------------\n",
        "import s2dr3.inferutils\n",
        "\n",
        "# ✅ These values will be replaced by Selenium\n",
        "lonlat = (51.4908, 35.5156)  # (longitude, latitude)\n",
        "date = '2024-07-20'\n",
        "\n",
        "# 🚀 Run inference\n",
        "print(f\"Running s2dr3.inferutils.test on location: {lonlat}, date: {date}\")\n",
        "s2dr3.inferutils.test(lonlat, date)\n",
        "\n",
        "# ✅ After execution, outputs are saved in /content/output\n",
        "# You can add additional code to download or display the output if needed"
      ]
    }
  ]
}